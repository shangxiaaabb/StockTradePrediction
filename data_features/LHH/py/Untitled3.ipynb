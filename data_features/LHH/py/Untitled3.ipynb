{
 "cells": [
  {
   "cell_type": "code",
   "execution_count": 1,
   "id": "a194d04d-eb00-4666-aab4-131c626d003e",
   "metadata": {},
   "outputs": [],
   "source": [
    "import os\n",
    "import gzip\n",
    "import pandas as pd\n",
    "from io import StringIO\n",
    "import numpy as np\n",
    "import datetime\n",
    "import dateutil.parser as parser\n",
    "def read_stock_data(data_home, data_type, venue, year, month, day, ticker, is_filter):\n",
    "    '''\n",
    "    从sever中读取一只股票一天的数据\n",
    "    data_home:数据所在folder\n",
    "    data_type:类型\n",
    "    venue:交易所\n",
    "    is_filter:是否进行filter操作\n",
    "    '''\n",
    "\n",
    "    path = str(data_home) + '/' + str(data_type) + '/' + str(venue) + '/' + str(year) + '/' + str(\n",
    "        month) + '/' + str(day) + '/' + str(ticker) + '.' + str(venue)  # 读数据的路径\n",
    "\n",
    "    if (os.path.exists(path)):\n",
    "        data0 = open(path, 'r')\n",
    "        data1 = pd.read_csv(StringIO(data0.read()))\n",
    "        data = data1.loc[:, ['time', 'volume', 'current','a1_v','a1_p','b1_v','b1_p',]]\n",
    "        diff_df = data.loc[:, ['time', 'volume']].diff()  # 差分，求出每次交易的交易量、交易额\n",
    "        data.iloc[1:len(data['volume']), 1] = diff_df.iloc[1:len(data['volume']), 1] # 第0个为NaN,从第一个代替原数据的volume\n",
    "        data['current'] = data['current']/10000\n",
    "        data['spread'] = (data['a1_p'] - data['b1_p'])/(data['a1_p'] + data['b1_p'])\n",
    "        if is_filter == 0:  # 不filter数据的时候\n",
    "            return data\n",
    "        else:\n",
    "            quantile = np.percentile(data['volume'], 99.9)  # 计算volume99%分位数\n",
    "            data = data[data['volume'] <= quantile]         # 删除大于99.9%分位数的数据\n",
    "            return data\n",
    "    else:\n",
    "        path = str(data_home) + '/' + str(data_type) + '/' + str(venue) + '/' + str(year) + '/' + str(\n",
    "            month) + '/' + str(day) + '/' + str(ticker) + '.' + str(venue) + '.gz'\n",
    "        with gzip.open(path, 'rb') as gf:\n",
    "            data1 = pd.read_csv(gf)\n",
    "        data = data1.loc[:, ['time', 'volume', 'current','a1_v','a1_p','b1_v','b1_p',]]\n",
    "        diff_df = data.loc[:, ['time', 'volume']].diff()  # 差分，求出每次交易的交易量、交易额\n",
    "        data.iloc[1:len(data['volume']), 1] = diff_df.iloc[1:len(data['volume']), 1] # 第0个为NaN,从第一个代替原数据的volume\n",
    "        data['current'] = data['current']/10000\n",
    "        data['spread'] = (data['a1_p'] - data['b1_p'])/(data['a1_p'] + data['b1_p'])\n",
    "        if is_filter == 0:  # 不filter数据的时候\n",
    "            return data\n",
    "        else:\n",
    "            quantile = np.percentile(data['volume'], 99.9)  # 计算volume99%分位数\n",
    "            data = data[data['volume'] <= quantile]  # 删除大于99.9%分位数的数据\n",
    "            return data"
   ]
  },
  {
   "cell_type": "code",
   "execution_count": 39,
   "id": "2a4ff525-6f09-46ee-ad04-b0623e178888",
   "metadata": {},
   "outputs": [],
   "source": [
    "data_home = '/volume1/sinoalgo/data/sinoalgo/JQMarketData'\n",
    "data_types = 'STOCK'\n",
    "venues = 'XSHE'"
   ]
  },
  {
   "cell_type": "code",
   "execution_count": 42,
   "id": "d3e63988-ba09-4b76-b3eb-84edb202fcb5",
   "metadata": {},
   "outputs": [],
   "source": [
    "df=read_stock_data(data_home, data_types, venues, '2020','09', '01', '000807', is_filter=0)"
   ]
  },
  {
   "cell_type": "code",
   "execution_count": 43,
   "id": "663e3256-b32c-4f40-8656-6c737a6814ed",
   "metadata": {},
   "outputs": [
    {
     "data": {
      "text/html": [
       "<div>\n",
       "<style scoped>\n",
       "    .dataframe tbody tr th:only-of-type {\n",
       "        vertical-align: middle;\n",
       "    }\n",
       "\n",
       "    .dataframe tbody tr th {\n",
       "        vertical-align: top;\n",
       "    }\n",
       "\n",
       "    .dataframe thead th {\n",
       "        text-align: right;\n",
       "    }\n",
       "</style>\n",
       "<table border=\"1\" class=\"dataframe\">\n",
       "  <thead>\n",
       "    <tr style=\"text-align: right;\">\n",
       "      <th></th>\n",
       "      <th>time</th>\n",
       "      <th>volume</th>\n",
       "      <th>current</th>\n",
       "      <th>a1_v</th>\n",
       "      <th>a1_p</th>\n",
       "      <th>b1_v</th>\n",
       "      <th>b1_p</th>\n",
       "      <th>spread</th>\n",
       "    </tr>\n",
       "  </thead>\n",
       "  <tbody>\n",
       "    <tr>\n",
       "      <th>0</th>\n",
       "      <td>20200901091509000</td>\n",
       "      <td>0</td>\n",
       "      <td>0.00</td>\n",
       "      <td>9300</td>\n",
       "      <td>61100</td>\n",
       "      <td>9300</td>\n",
       "      <td>61100</td>\n",
       "      <td>0.000000</td>\n",
       "    </tr>\n",
       "    <tr>\n",
       "      <th>1</th>\n",
       "      <td>20200901091518000</td>\n",
       "      <td>0</td>\n",
       "      <td>0.00</td>\n",
       "      <td>9500</td>\n",
       "      <td>60800</td>\n",
       "      <td>9500</td>\n",
       "      <td>60800</td>\n",
       "      <td>0.000000</td>\n",
       "    </tr>\n",
       "    <tr>\n",
       "      <th>2</th>\n",
       "      <td>20200901091536000</td>\n",
       "      <td>0</td>\n",
       "      <td>0.00</td>\n",
       "      <td>9500</td>\n",
       "      <td>60800</td>\n",
       "      <td>9500</td>\n",
       "      <td>60800</td>\n",
       "      <td>0.000000</td>\n",
       "    </tr>\n",
       "    <tr>\n",
       "      <th>3</th>\n",
       "      <td>20200901091545000</td>\n",
       "      <td>0</td>\n",
       "      <td>0.00</td>\n",
       "      <td>9500</td>\n",
       "      <td>60800</td>\n",
       "      <td>9500</td>\n",
       "      <td>60800</td>\n",
       "      <td>0.000000</td>\n",
       "    </tr>\n",
       "    <tr>\n",
       "      <th>4</th>\n",
       "      <td>20200901091603000</td>\n",
       "      <td>0</td>\n",
       "      <td>0.00</td>\n",
       "      <td>9500</td>\n",
       "      <td>60800</td>\n",
       "      <td>9500</td>\n",
       "      <td>60800</td>\n",
       "      <td>0.000000</td>\n",
       "    </tr>\n",
       "    <tr>\n",
       "      <th>...</th>\n",
       "      <td>...</td>\n",
       "      <td>...</td>\n",
       "      <td>...</td>\n",
       "      <td>...</td>\n",
       "      <td>...</td>\n",
       "      <td>...</td>\n",
       "      <td>...</td>\n",
       "      <td>...</td>\n",
       "    </tr>\n",
       "    <tr>\n",
       "      <th>4747</th>\n",
       "      <td>20200901145924000</td>\n",
       "      <td>0</td>\n",
       "      <td>6.13</td>\n",
       "      <td>197500</td>\n",
       "      <td>61200</td>\n",
       "      <td>197500</td>\n",
       "      <td>61200</td>\n",
       "      <td>0.000000</td>\n",
       "    </tr>\n",
       "    <tr>\n",
       "      <th>4748</th>\n",
       "      <td>20200901145933000</td>\n",
       "      <td>0</td>\n",
       "      <td>6.13</td>\n",
       "      <td>200600</td>\n",
       "      <td>61200</td>\n",
       "      <td>200600</td>\n",
       "      <td>61200</td>\n",
       "      <td>0.000000</td>\n",
       "    </tr>\n",
       "    <tr>\n",
       "      <th>4749</th>\n",
       "      <td>20200901145942000</td>\n",
       "      <td>0</td>\n",
       "      <td>6.13</td>\n",
       "      <td>355400</td>\n",
       "      <td>61300</td>\n",
       "      <td>355400</td>\n",
       "      <td>61300</td>\n",
       "      <td>0.000000</td>\n",
       "    </tr>\n",
       "    <tr>\n",
       "      <th>4750</th>\n",
       "      <td>20200901145951000</td>\n",
       "      <td>0</td>\n",
       "      <td>6.13</td>\n",
       "      <td>415054</td>\n",
       "      <td>61300</td>\n",
       "      <td>415054</td>\n",
       "      <td>61300</td>\n",
       "      <td>0.000000</td>\n",
       "    </tr>\n",
       "    <tr>\n",
       "      <th>4751</th>\n",
       "      <td>20200901150003000</td>\n",
       "      <td>418054</td>\n",
       "      <td>6.13</td>\n",
       "      <td>145700</td>\n",
       "      <td>61400</td>\n",
       "      <td>95846</td>\n",
       "      <td>61300</td>\n",
       "      <td>0.000815</td>\n",
       "    </tr>\n",
       "  </tbody>\n",
       "</table>\n",
       "<p>4752 rows × 8 columns</p>\n",
       "</div>"
      ],
      "text/plain": [
       "                   time  volume  current    a1_v   a1_p    b1_v   b1_p  \\\n",
       "0     20200901091509000       0     0.00    9300  61100    9300  61100   \n",
       "1     20200901091518000       0     0.00    9500  60800    9500  60800   \n",
       "2     20200901091536000       0     0.00    9500  60800    9500  60800   \n",
       "3     20200901091545000       0     0.00    9500  60800    9500  60800   \n",
       "4     20200901091603000       0     0.00    9500  60800    9500  60800   \n",
       "...                 ...     ...      ...     ...    ...     ...    ...   \n",
       "4747  20200901145924000       0     6.13  197500  61200  197500  61200   \n",
       "4748  20200901145933000       0     6.13  200600  61200  200600  61200   \n",
       "4749  20200901145942000       0     6.13  355400  61300  355400  61300   \n",
       "4750  20200901145951000       0     6.13  415054  61300  415054  61300   \n",
       "4751  20200901150003000  418054     6.13  145700  61400   95846  61300   \n",
       "\n",
       "        spread  \n",
       "0     0.000000  \n",
       "1     0.000000  \n",
       "2     0.000000  \n",
       "3     0.000000  \n",
       "4     0.000000  \n",
       "...        ...  \n",
       "4747  0.000000  \n",
       "4748  0.000000  \n",
       "4749  0.000000  \n",
       "4750  0.000000  \n",
       "4751  0.000815  \n",
       "\n",
       "[4752 rows x 8 columns]"
      ]
     },
     "execution_count": 43,
     "metadata": {},
     "output_type": "execute_result"
    }
   ],
   "source": [
    "df "
   ]
  },
  {
   "cell_type": "code",
   "execution_count": 70,
   "id": "bc314dd0-f530-4c39-9340-f79f4b5eaf1f",
   "metadata": {},
   "outputs": [],
   "source": [
    "windows=df['volume'][1403:1503]"
   ]
  },
  {
   "cell_type": "code",
   "execution_count": 71,
   "id": "9cbce254-5e87-4b23-9e36-24dc6b546a9a",
   "metadata": {},
   "outputs": [
    {
     "data": {
      "text/plain": [
       "1403      100\n",
       "1404        0\n",
       "1405        0\n",
       "1406      100\n",
       "1407      200\n",
       "        ...  \n",
       "1498    13100\n",
       "1499     3700\n",
       "1500    41100\n",
       "1501    48400\n",
       "1502    26500\n",
       "Name: volume, Length: 100, dtype: int64"
      ]
     },
     "execution_count": 71,
     "metadata": {},
     "output_type": "execute_result"
    }
   ],
   "source": [
    "windows"
   ]
  },
  {
   "cell_type": "code",
   "execution_count": 72,
   "id": "3dece676-777f-4065-b5d3-7fbc26c98c2a",
   "metadata": {},
   "outputs": [],
   "source": [
    "windows = (windows - np.mean(windows)) / np.std(windows, ddof=1) "
   ]
  },
  {
   "cell_type": "code",
   "execution_count": 73,
   "id": "74fc8654-172c-4333-a426-81652825f57e",
   "metadata": {},
   "outputs": [
    {
     "data": {
      "text/plain": [
       "1403   -0.410182\n",
       "1404   -0.414281\n",
       "1405   -0.414281\n",
       "1406   -0.410182\n",
       "1407   -0.406083\n",
       "          ...   \n",
       "1498    0.122666\n",
       "1499   -0.262624\n",
       "1500    1.270339\n",
       "1501    1.569554\n",
       "1502    0.671910\n",
       "Name: volume, Length: 100, dtype: float64"
      ]
     },
     "execution_count": 73,
     "metadata": {},
     "output_type": "execute_result"
    }
   ],
   "source": [
    "windows"
   ]
  },
  {
   "cell_type": "code",
   "execution_count": 74,
   "id": "1e3216d5-e979-49df-ad93-6dc5bde4e3d3",
   "metadata": {},
   "outputs": [],
   "source": [
    "volatility = np.std(windows)"
   ]
  },
  {
   "cell_type": "code",
   "execution_count": 75,
   "id": "6029b341-3200-4836-a508-3bb441923486",
   "metadata": {},
   "outputs": [
    {
     "data": {
      "text/plain": [
       "0.9949874371066201"
      ]
     },
     "execution_count": 75,
     "metadata": {},
     "output_type": "execute_result"
    }
   ],
   "source": [
    "volatility "
   ]
  },
  {
   "cell_type": "code",
   "execution_count": null,
   "id": "195c4641-a1be-4e02-a78e-27fb248f409c",
   "metadata": {},
   "outputs": [],
   "source": []
  },
  {
   "cell_type": "code",
   "execution_count": null,
   "id": "497574dd-0c93-43d2-b6e2-f746b470de11",
   "metadata": {},
   "outputs": [],
   "source": []
  }
 ],
 "metadata": {
  "kernelspec": {
   "display_name": "Python 3 (ipykernel)",
   "language": "python",
   "name": "python3"
  },
  "language_info": {
   "codemirror_mode": {
    "name": "ipython",
    "version": 3
   },
   "file_extension": ".py",
   "mimetype": "text/x-python",
   "name": "python",
   "nbconvert_exporter": "python",
   "pygments_lexer": "ipython3",
   "version": "3.9.15"
  }
 },
 "nbformat": 4,
 "nbformat_minor": 5
}
