{
 "cells": [
  {
   "cell_type": "code",
   "execution_count": 8,
   "id": "8c2ee923-e509-4a1e-8e4d-02c07fc0eb6e",
   "metadata": {},
   "outputs": [
    {
     "data": {
      "text/plain": [
       "torch.Size([50, 16, 16])"
      ]
     },
     "execution_count": 8,
     "metadata": {},
     "output_type": "execute_result"
    }
   ],
   "source": [
    "import torch\n",
    "from torch import nn\n",
    "\n",
    "leakyrelu = nn.LeakyReLU(0.1)\n",
    "A = nn.Parameter(torch.zeros(size=(2*8, 16)))\n",
    "nn.init.xavier_uniform_(A.data, gain=1.414)\n",
    "\n",
    "a_input = torch.randn(50, 16, 16, 2*8)\n",
    "\n",
    "E = []\n",
    "for i in range(16):\n",
    "    a = A[:,i].unsqueeze(1)\n",
    "    e_col = torch.matmul(a_input, a).squeeze(3)[:,:,i]\n",
    "    E.append(e_col)\n",
    "\n",
    "e = leakyrelu(torch.stack(E, dim=2))\n",
    "e.shape"
   ]
  },
  {
   "cell_type": "code",
   "execution_count": null,
   "id": "bfdc8030-dd20-4649-b3ec-778d83f3769d",
   "metadata": {},
   "outputs": [],
   "source": []
  }
 ],
 "metadata": {
  "kernelspec": {
   "display_name": "bioinfo",
   "language": "python",
   "name": "bioinfo"
  },
  "language_info": {
   "codemirror_mode": {
    "name": "ipython",
    "version": 3
   },
   "file_extension": ".py",
   "mimetype": "text/x-python",
   "name": "python",
   "nbconvert_exporter": "python",
   "pygments_lexer": "ipython3",
   "version": "3.9.15"
  }
 },
 "nbformat": 4,
 "nbformat_minor": 5
}
