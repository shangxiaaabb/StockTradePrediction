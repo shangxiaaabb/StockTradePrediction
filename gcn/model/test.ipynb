{
 "cells": [
  {
   "cell_type": "code",
   "execution_count": 2,
   "metadata": {},
   "outputs": [],
   "source": [
    "import pandas as pd\n",
    "import numpy as np\n",
    "import os"
   ]
  },
  {
   "cell_type": "code",
   "execution_count": 72,
   "metadata": {},
   "outputs": [],
   "source": [
    "def get_diff_bin(data):\n",
    "    average_bin, bin_0, bin_24 = [], [], []\n",
    "\n",
    "    for row in range(24, data.shape[0], 25):\n",
    "        bin_24.append(data.loc[row, 'bin_volume'])\n",
    "\n",
    "    for row in range(0, data.shape[0], 25):\n",
    "        bin_0.append(data.loc[row, 'bin_volume'])\n",
    "        average_bin.append(data.loc[row+ 1: row+ 24, 'daily_volume'].mean())\n",
    "    return average_bin, bin_0, bin_24\n",
    "\n",
    "\n",
    "def transformer(data):\n",
    "    transformed_nums = [-1 if num < 0 else 1 if num > 0 else 0 for num in data]\n",
    "    return transformed_nums\n",
    "\n",
    "average_bin, bin_0, bin_24 = get_diff_bin(data_46)\n",
    "# print(len(average_bin), len(bin_0), len(bin_24))\n",
    "\n",
    "diff_average_bin = transformer([(average_bin[i] - average_bin[i-1]) for i in range(1, len(average_bin))])\n",
    "diff_bin_0_24 = [bin_0[i]- bin_24[i] for i in range(len(bin_24))][1:]\n",
    "diff_bin_0_0 = [(bin_0[i]- bin_0[i-1])/bin_0[i-1] for i in range(1, len(bin_0))]\n",
    "# print(len(diff_average_bin), len(diff_bin_0_0), len(diff_bin_0_24))\n",
    "\n",
    "data_diff = pd.DataFrame({'ddiff_average_bin': diff_average_bin, 'bin_0_0': diff_bin_0_0, 'bin_0_24': diff_bin_0_24})\n",
    "# data_diff.corr()"
   ]
  },
  {
   "cell_type": "code",
   "execution_count": 31,
   "metadata": {},
   "outputs": [
    {
     "name": "stdout",
     "output_type": "stream",
     "text": [
      "(197, 24)\n"
     ]
    }
   ],
   "source": [
    "def df2matrix(file_path:str, col_name: str=None, bin_num: bool= True):\n",
    "    \"\"\"\n",
    "    转换数据结构，以date为横坐标，制定col_name为纵坐标\n",
    "    \"\"\"\n",
    "\n",
    "    df = pd.read_csv(file_path)\n",
    "    df['date'] = pd.to_datetime(df['date'], format='%Y-%m-%d')\n",
    "    df.set_index('date', inplace= True)\n",
    "    df.sort_index(inplace= True)\n",
    "    n, k = df.shape[0], 25\n",
    "    # TODO: 1、把 bin0 分离出来，而后补充到特征里面去，也就是需要在  self.genNewFeatureBinVolume() 把bin0 特征融合进来\n",
    "    if bin_num:\n",
    "        data = pd.DataFrame(np.array(df[col_name]).reshape(int(n/k), k),\n",
    "                                columns= ['bin{}'.format(i) for i in range(k)]).drop('bin0', axis=1)\n",
    "    else:\n",
    "        bin0_list = []\n",
    "        for i in range(0, df.shape[0], 25):\n",
    "            if i == 0:\n",
    "                bin0_list.append([(df[col_name].iloc[i]- df[col_name].iloc[i])/ df[col_name].iloc[i]])\n",
    "            else:\n",
    "                bin0_list.append([(df[col_name].iloc[i]- df[col_name].iloc[i-25])/ df[col_name].iloc[i-25]])\n",
    "        result = np.array([[element[0]]*(k-1) for element in bin0_list])\n",
    "        print(result.shape)\n",
    "        data = pd.DataFrame(np.array(result),\n",
    "                            columns= ['bin0' for i in range(k-1)])\n",
    "    data['date'] = pd.to_datetime(list(sorted(set(df.index))), format='%Y/%m/%d')\n",
    "    data.set_index('date', inplace= True)\n",
    "    data.sort_index(inplace=True)\n",
    "    return data\n",
    "\n",
    "data = df2matrix(file_path= '../data/0308/000046_XSHE_25_daily.csv', col_name= 'bin_volume', bin_num= False)"
   ]
  },
  {
   "cell_type": "code",
   "execution_count": 8,
   "metadata": {},
   "outputs": [
    {
     "data": {
      "text/plain": [
       "array([[2.1871026 , 2.03988665],\n",
       "       [1.67665943, 1.5774206 ]])"
      ]
     },
     "execution_count": 8,
     "metadata": {},
     "output_type": "execute_result"
    }
   ],
   "source": [
    "input_feature = np.random.rand(2, 4)\n",
    "w = np.random.rand(4, 3)\n",
    "a = np.random.rand(6, 2)\n",
    "h = np.matmul(input_feature, w)\n",
    "h1 = np.matmul(h, a[:3,:])\n",
    "h2 = np.matmul(h, a[3:, :])\n",
    "e = h1+ h2\n",
    "e"
   ]
  },
  {
   "cell_type": "code",
   "execution_count": null,
   "metadata": {},
   "outputs": [],
   "source": []
  }
 ],
 "metadata": {
  "kernelspec": {
   "display_name": "Python 3",
   "language": "python",
   "name": "python3"
  },
  "language_info": {
   "codemirror_mode": {
    "name": "ipython",
    "version": 3
   },
   "file_extension": ".py",
   "mimetype": "text/x-python",
   "name": "python",
   "nbconvert_exporter": "python",
   "pygments_lexer": "ipython3",
   "version": "3.11.5"
  }
 },
 "nbformat": 4,
 "nbformat_minor": 2
}
