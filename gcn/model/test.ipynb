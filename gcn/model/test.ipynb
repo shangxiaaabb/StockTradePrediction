{
 "cells": [
  {
   "cell_type": "code",
   "execution_count": 2,
   "metadata": {},
   "outputs": [],
   "source": [
    "import pandas as pd\n",
    "import numpy as np\n",
    "import os\n",
    "import networkx as nx\n",
    "import matplotlib.pyplot as plt"
   ]
  },
  {
   "cell_type": "code",
   "execution_count": 156,
   "metadata": {},
   "outputs": [
    {
     "data": {
      "text/plain": [
       "{'bin0': ['2021-03-07 15:00', '2021-03-08 09:30'],\n",
       " 'bin1': ['2021-03-08 09:30', '2021-03-08 09:39'],\n",
       " 'bin2': ['2021-03-08 09:39', '2021-03-08 09:48'],\n",
       " 'bin3': ['2021-03-08 09:48', '2021-03-08 09:57'],\n",
       " 'bin4': ['2021-03-08 09:57', '2021-03-08 10:06'],\n",
       " 'bin5': ['2021-03-08 10:06', '2021-03-08 10:15'],\n",
       " 'bin6': ['2021-03-08 10:15', '2021-03-08 10:24'],\n",
       " 'bin7': ['2021-03-08 10:24', '2021-03-08 10:33'],\n",
       " 'bin8': ['2021-03-08 10:33', '2021-03-08 10:42'],\n",
       " 'bin9': ['2021-03-08 10:42', '2021-03-08 10:51'],\n",
       " 'bin10': ['2021-03-08 10:51', '2021-03-08 11:30'],\n",
       " 'bin11': ['2021-03-08 11:30', '2021-03-08 13:00'],\n",
       " 'bin12': ['2021-03-08 13:00', '2021-03-08 13:09'],\n",
       " 'bin13': ['2021-03-08 13:09', '2021-03-08 13:18'],\n",
       " 'bin14': ['2021-03-08 13:18', '2021-03-08 13:27'],\n",
       " 'bin15': ['2021-03-08 13:27', '2021-03-08 13:36'],\n",
       " 'bin16': ['2021-03-08 13:36', '2021-03-08 13:45'],\n",
       " 'bin17': ['2021-03-08 13:45', '2021-03-08 13:54'],\n",
       " 'bin18': ['2021-03-08 13:54', '2021-03-08 14:03'],\n",
       " 'bin19': ['2021-03-08 14:03', '2021-03-08 14:12'],\n",
       " 'bin20': ['2021-03-08 14:12', '2021-03-08 14:21'],\n",
       " 'bin21': ['2021-03-08 14:21', '2021-03-08 14:30'],\n",
       " 'bin22': ['2021-03-08 14:30', '2021-03-08 14:39'],\n",
       " 'bin23': ['2021-03-08 14:39', '2021-03-08 14:48'],\n",
       " 'bin24': ['2021-03-08 14:48', '2021-03-08 15:00']}"
      ]
     },
     "execution_count": 156,
     "metadata": {},
     "output_type": "execute_result"
    }
   ],
   "source": [
    "bins"
   ]
  },
  {
   "cell_type": "code",
   "execution_count": 23,
   "metadata": {},
   "outputs": [],
   "source": [
    "from BuildData import BuildData\n",
    "\n",
    "conf = {'lag_day': 3,\n",
    "        'lag_bin': 3,\n",
    "        'lag_week': 1,\n",
    "        'bin_num': 24,\n",
    "        'file_dir': '../data/0308/0308-data/',\n",
    "        'comment_dir': '../data/0308/0308-number/'}\n",
    "\n",
    "# inputs_df, output_list = BuildData(conf= conf).gen_input_output_data(file_path= '../data/0308/0308-data/000046_XSHE_25_daily.csv',\n",
    "#                                                                      comment_path= '../data/0308/0308-number/000046_comment_sentiment.csv',\n",
    "#                                                                      stock_info= None)\n",
    "\n",
    "path = '../data/volume/0308/Input/000046_3_3_inputs.npy'\n",
    "input_ = np.load('../data/volume/0308/Input/000046_3_3_inputs.npy', allow_pickle= True)\n",
    "output_matrix = np.load(path.replace('inputs', 'output').replace('Input', 'Output'), allow_pickle= True)\n",
    "input_matrix = np.array([value for item in input_ for value in item], dtype= np.float32).reshape(input_.shape[0], 13, 9)"
   ]
  },
  {
   "cell_type": "code",
   "execution_count": 1,
   "metadata": {},
   "outputs": [],
   "source": [
    "import torch\n",
    "import torch.nn as nn"
   ]
  },
  {
   "cell_type": "code",
   "execution_count": 26,
   "metadata": {},
   "outputs": [],
   "source": [
    "x = torch.randn(10, 13, 9)\n",
    "w = torch.randn(9, 12)\n",
    "a = torch.randn(24, 13)\n",
    "c = torch.eye(13, 13)\n",
    "\n",
    "connection = [\n",
    "    (1, 0),\n",
    "    (9, 0), (12, 0), \n",
    "    (8, 9), (8, 12), (5, 9), (11, 12), \n",
    "    (4, 5), (4, 8), (7, 8), (7, 11), (10, 11),\n",
    "    (3, 4), (3, 7), (6, 7), (6, 10), (2, 3), (2, 6)]\n",
    "adj_matrix = torch.zeros(13, 13)\n",
    "for source, target in connection:\n",
    "    adj_matrix[source][target] = 1\n",
    "h = torch.matmul(x, w)\n",
    "\n",
    "connection_coord = {}\n",
    "from_list, to_list = [t.item() for t in torch.where(adj_matrix>0)[0]],  [t.item() for t in torch.where(adj_matrix>0)[1]]\n",
    "for pointA, pointB in zip(to_list, from_list):\n",
    "    if pointA not in connection_coord:\n",
    "        connection_coord[pointA] = [pointB]\n",
    "    elif pointA in connection_coord:\n",
    "        connection_coord[pointA].append(pointB)\n",
    "    \n"
   ]
  },
  {
   "cell_type": "code",
   "execution_count": 27,
   "metadata": {},
   "outputs": [
    {
     "data": {
      "text/plain": [
       "{0: [1, 9, 12],\n",
       " 3: [2],\n",
       " 6: [2],\n",
       " 4: [3],\n",
       " 7: [3, 6],\n",
       " 5: [4],\n",
       " 8: [4, 7],\n",
       " 9: [5, 8],\n",
       " 10: [6],\n",
       " 11: [7, 10],\n",
       " 12: [8, 11]}"
      ]
     },
     "execution_count": 27,
     "metadata": {},
     "output_type": "execute_result"
    }
   ],
   "source": [
    "connection_coord"
   ]
  },
  {
   "cell_type": "code",
   "execution_count": 28,
   "metadata": {},
   "outputs": [
    {
     "data": {
      "text/plain": [
       "torch.Size([3, 10, 13, 12])"
      ]
     },
     "execution_count": 28,
     "metadata": {},
     "output_type": "execute_result"
    }
   ],
   "source": [
    "h.shape"
   ]
  },
  {
   "cell_type": "code",
   "execution_count": null,
   "metadata": {},
   "outputs": [],
   "source": []
  }
 ],
 "metadata": {
  "kernelspec": {
   "display_name": "Python 3",
   "language": "python",
   "name": "python3"
  },
  "language_info": {
   "codemirror_mode": {
    "name": "ipython",
    "version": 3
   },
   "file_extension": ".py",
   "mimetype": "text/x-python",
   "name": "python",
   "nbconvert_exporter": "python",
   "pygments_lexer": "ipython3",
   "version": "3.11.5"
  }
 },
 "nbformat": 4,
 "nbformat_minor": 2
}
