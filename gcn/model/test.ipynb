{
 "cells": [
  {
   "cell_type": "code",
   "execution_count": 6,
   "metadata": {},
   "outputs": [
    {
     "data": {
      "text/plain": [
       "torch.Size([9])"
      ]
     },
     "execution_count": 6,
     "metadata": {},
     "output_type": "execute_result"
    }
   ],
   "source": [
    "import pandas as pd\n",
    "import numpy as np\n",
    "import os\n",
    "import networkx as nx\n",
    "import matplotlib.pyplot as plt\n",
    "import torch"
   ]
  },
  {
   "cell_type": "code",
   "execution_count": 7,
   "metadata": {},
   "outputs": [
    {
     "name": "stdout",
     "output_type": "stream",
     "text": [
      "Normalized data written to ../data/0308/0308-data/300263_XSHE_25_daily_normalized.csv\n",
      "Normalized data written to ../data/0308/0308-data/000753_XSHE_25_daily_normalized.csv\n",
      "Normalized data written to ../data/0308/0308-data/000951_XSHE_25_daily_normalized.csv\n",
      "Normalized data written to ../data/0308/0308-data/002282_XSHE_25_daily_normalized.csv\n",
      "Normalized data written to ../data/0308/0308-data/000046_XSHE_25_daily_normalized.csv\n",
      "Normalized data written to ../data/0308/0308-data/603095_XSHG_25_daily_normalized.csv\n",
      "Normalized data written to ../data/0308/0308-data/300540_XSHE_25_daily_normalized.csv\n",
      "Normalized data written to ../data/0308/0308-data/603359_XSHG_25_daily_normalized.csv\n",
      "Normalized data written to ../data/0308/0308-data/300343_XSHE_25_daily_normalized.csv\n",
      "Normalized data written to ../data/0308/0308-data/300433_XSHE_25_daily_normalized.csv\n",
      "Normalized data written to ../data/0308/0308-data/600622_XSHG_25_daily_normalized.csv\n",
      "Normalized data written to ../data/0308/0308-data/002882_XSHE_25_daily_normalized.csv\n",
      "Normalized data written to ../data/0308/0308-data/300174_XSHE_25_daily_normalized.csv\n",
      "Normalized data written to ../data/0308/0308-data/603053_XSHG_25_daily_normalized.csv\n",
      "Normalized data written to ../data/0308/0308-data/300133_XSHE_25_daily_normalized.csv\n",
      "Normalized data written to ../data/0308/0308-data/002841_XSHE_25_daily_normalized.csv\n",
      "Normalized data written to ../data/0308/0308-data/002679_XSHE_25_daily_normalized.csv\n",
      "Normalized data written to ../data/0308/0308-data/000998_XSHE_25_daily_normalized.csv\n"
     ]
    }
   ],
   "source": [
    "import os\n",
    "import pandas as pd\n",
    "from sklearn.preprocessing import MinMaxScaler\n",
    "\n",
    "# 设置数据目录路径\n",
    "path_dir = '../data/0308/0308-data/'\n",
    "# 初始化MinMaxScaler对象\n",
    "scaler = MinMaxScaler()\n",
    "\n",
    "# 遍历目录中的所有文件\n",
    "for filename in os.listdir(path_dir):\n",
    "    # 拼接完整的文件路径\n",
    "    file_path = os.path.join(path_dir, filename)\n",
    "    # 确保是文件而不是文件夹\n",
    "    if os.path.isfile(file_path):\n",
    "        # 读取CSV文件\n",
    "        data = pd.read_csv(file_path)\n",
    "        # 选取除了第一列的所有数据\n",
    "        data_use = data.iloc[:, 1:]\n",
    "        # 正则化数据\n",
    "        data_use_normalized = scaler.fit_transform(data_use)\n",
    "        \n",
    "        # 将正则化后的数据转换为DataFrame\n",
    "        data_normalized_df = pd.DataFrame(data_use_normalized, columns=data_use.columns)\n",
    "        \n",
    "        # 将第一列（假设是索引或ID）添加回去\n",
    "        data_normalized_df.insert(0, data.columns[0], data.iloc[:, 0])\n",
    "        \n",
    "        # 构建新的文件名，例如在原文件名后添加\"_normalized\"\n",
    "        new_file_name = os.path.splitext(filename)[0] + \"_normalized.csv\"\n",
    "        new_file_path = os.path.join(path_dir, new_file_name)\n",
    "        \n",
    "        # 将正则化后的数据写入新的CSV文件\n",
    "        data_normalized_df.to_csv(new_file_path, index=False)\n",
    "        print(f'Normalized data written to {new_file_path}')"
   ]
  },
  {
   "cell_type": "code",
   "execution_count": 156,
   "metadata": {},
   "outputs": [
    {
     "data": {
      "text/plain": [
       "{'bin0': ['2021-03-07 15:00', '2021-03-08 09:30'],\n",
       " 'bin1': ['2021-03-08 09:30', '2021-03-08 09:39'],\n",
       " 'bin2': ['2021-03-08 09:39', '2021-03-08 09:48'],\n",
       " 'bin3': ['2021-03-08 09:48', '2021-03-08 09:57'],\n",
       " 'bin4': ['2021-03-08 09:57', '2021-03-08 10:06'],\n",
       " 'bin5': ['2021-03-08 10:06', '2021-03-08 10:15'],\n",
       " 'bin6': ['2021-03-08 10:15', '2021-03-08 10:24'],\n",
       " 'bin7': ['2021-03-08 10:24', '2021-03-08 10:33'],\n",
       " 'bin8': ['2021-03-08 10:33', '2021-03-08 10:42'],\n",
       " 'bin9': ['2021-03-08 10:42', '2021-03-08 10:51'],\n",
       " 'bin10': ['2021-03-08 10:51', '2021-03-08 11:30'],\n",
       " 'bin11': ['2021-03-08 11:30', '2021-03-08 13:00'],\n",
       " 'bin12': ['2021-03-08 13:00', '2021-03-08 13:09'],\n",
       " 'bin13': ['2021-03-08 13:09', '2021-03-08 13:18'],\n",
       " 'bin14': ['2021-03-08 13:18', '2021-03-08 13:27'],\n",
       " 'bin15': ['2021-03-08 13:27', '2021-03-08 13:36'],\n",
       " 'bin16': ['2021-03-08 13:36', '2021-03-08 13:45'],\n",
       " 'bin17': ['2021-03-08 13:45', '2021-03-08 13:54'],\n",
       " 'bin18': ['2021-03-08 13:54', '2021-03-08 14:03'],\n",
       " 'bin19': ['2021-03-08 14:03', '2021-03-08 14:12'],\n",
       " 'bin20': ['2021-03-08 14:12', '2021-03-08 14:21'],\n",
       " 'bin21': ['2021-03-08 14:21', '2021-03-08 14:30'],\n",
       " 'bin22': ['2021-03-08 14:30', '2021-03-08 14:39'],\n",
       " 'bin23': ['2021-03-08 14:39', '2021-03-08 14:48'],\n",
       " 'bin24': ['2021-03-08 14:48', '2021-03-08 15:00']}"
      ]
     },
     "execution_count": 156,
     "metadata": {},
     "output_type": "execute_result"
    }
   ],
   "source": [
    "bins"
   ]
  },
  {
   "cell_type": "code",
   "execution_count": 23,
   "metadata": {},
   "outputs": [],
   "source": [
    "from BuildData import BuildData\n",
    "\n",
    "conf = {'lag_day': 3,\n",
    "        'lag_bin': 3,\n",
    "        'lag_week': 1,\n",
    "        'bin_num': 24,\n",
    "        'file_dir': '../data/0308/0308-data/',\n",
    "        'comment_dir': '../data/0308/0308-number/'}\n",
    "\n",
    "# inputs_df, output_list = BuildData(conf= conf).gen_input_output_data(file_path= '../data/0308/0308-data/000046_XSHE_25_daily.csv',\n",
    "#                                                                      comment_path= '../data/0308/0308-number/000046_comment_sentiment.csv',\n",
    "#                                                                      stock_info= None)\n",
    "\n",
    "path = '../data/volume/0308/Input/000046_3_3_inputs.npy'\n",
    "input_ = np.load('../data/volume/0308/Input/000046_3_3_inputs.npy', allow_pickle= True)\n",
    "output_matrix = np.load(path.replace('inputs', 'output').replace('Input', 'Output'), allow_pickle= True)\n",
    "input_matrix = np.array([value for item in input_ for value in item], dtype= np.float32).reshape(input_.shape[0], 13, 9)"
   ]
  },
  {
   "cell_type": "code",
   "execution_count": 1,
   "metadata": {},
   "outputs": [],
   "source": [
    "import torch\n",
    "import torch.nn as nn"
   ]
  },
  {
   "cell_type": "code",
   "execution_count": 26,
   "metadata": {},
   "outputs": [],
   "source": [
    "x = torch.randn(10, 13, 9)\n",
    "w = torch.randn(9, 12)\n",
    "a = torch.randn(24, 13)\n",
    "c = torch.eye(13, 13)\n",
    "\n",
    "connection = [\n",
    "    (1, 0),\n",
    "    (9, 0), (12, 0), \n",
    "    (8, 9), (8, 12), (5, 9), (11, 12), \n",
    "    (4, 5), (4, 8), (7, 8), (7, 11), (10, 11),\n",
    "    (3, 4), (3, 7), (6, 7), (6, 10), (2, 3), (2, 6)]\n",
    "adj_matrix = torch.zeros(13, 13)\n",
    "for source, target in connection:\n",
    "    adj_matrix[source][target] = 1\n",
    "h = torch.matmul(x, w)\n",
    "\n",
    "connection_coord = {}\n",
    "from_list, to_list = [t.item() for t in torch.where(adj_matrix>0)[0]],  [t.item() for t in torch.where(adj_matrix>0)[1]]\n",
    "for pointA, pointB in zip(to_list, from_list):\n",
    "    if pointA not in connection_coord:\n",
    "        connection_coord[pointA] = [pointB]\n",
    "    elif pointA in connection_coord:\n",
    "        connection_coord[pointA].append(pointB)\n",
    "    \n"
   ]
  },
  {
   "cell_type": "code",
   "execution_count": 27,
   "metadata": {},
   "outputs": [
    {
     "data": {
      "text/plain": [
       "{0: [1, 9, 12],\n",
       " 3: [2],\n",
       " 6: [2],\n",
       " 4: [3],\n",
       " 7: [3, 6],\n",
       " 5: [4],\n",
       " 8: [4, 7],\n",
       " 9: [5, 8],\n",
       " 10: [6],\n",
       " 11: [7, 10],\n",
       " 12: [8, 11]}"
      ]
     },
     "execution_count": 27,
     "metadata": {},
     "output_type": "execute_result"
    }
   ],
   "source": [
    "connection_coord"
   ]
  },
  {
   "cell_type": "code",
   "execution_count": 23,
   "metadata": {},
   "outputs": [
    {
     "data": {
      "text/html": [
       "<div>\n",
       "<style scoped>\n",
       "    .dataframe tbody tr th:only-of-type {\n",
       "        vertical-align: middle;\n",
       "    }\n",
       "\n",
       "    .dataframe tbody tr th {\n",
       "        vertical-align: top;\n",
       "    }\n",
       "\n",
       "    .dataframe thead th {\n",
       "        text-align: right;\n",
       "    }\n",
       "</style>\n",
       "<table border=\"1\" class=\"dataframe\">\n",
       "  <thead>\n",
       "    <tr style=\"text-align: right;\">\n",
       "      <th></th>\n",
       "      <th>date</th>\n",
       "      <th>daily_volume</th>\n",
       "      <th>bin_num</th>\n",
       "      <th>bin_volume</th>\n",
       "      <th>volatility</th>\n",
       "      <th>quote_imbalance</th>\n",
       "    </tr>\n",
       "  </thead>\n",
       "  <tbody>\n",
       "    <tr>\n",
       "      <th>0</th>\n",
       "      <td>2020-05-13</td>\n",
       "      <td>-0.676033</td>\n",
       "      <td>0</td>\n",
       "      <td>-0.753171</td>\n",
       "      <td>5.044553</td>\n",
       "      <td>-0.928889</td>\n",
       "    </tr>\n",
       "    <tr>\n",
       "      <th>1</th>\n",
       "      <td>2020-05-13</td>\n",
       "      <td>-0.676033</td>\n",
       "      <td>1</td>\n",
       "      <td>-0.164080</td>\n",
       "      <td>-0.203702</td>\n",
       "      <td>-0.849043</td>\n",
       "    </tr>\n",
       "    <tr>\n",
       "      <th>2</th>\n",
       "      <td>2020-05-13</td>\n",
       "      <td>-0.676033</td>\n",
       "      <td>2</td>\n",
       "      <td>-0.346326</td>\n",
       "      <td>-0.208520</td>\n",
       "      <td>0.007255</td>\n",
       "    </tr>\n",
       "    <tr>\n",
       "      <th>3</th>\n",
       "      <td>2020-05-13</td>\n",
       "      <td>-0.676033</td>\n",
       "      <td>3</td>\n",
       "      <td>-0.571056</td>\n",
       "      <td>-0.216492</td>\n",
       "      <td>-0.860357</td>\n",
       "    </tr>\n",
       "    <tr>\n",
       "      <th>4</th>\n",
       "      <td>2020-05-13</td>\n",
       "      <td>-0.676033</td>\n",
       "      <td>4</td>\n",
       "      <td>-0.684781</td>\n",
       "      <td>-0.212412</td>\n",
       "      <td>-1.098856</td>\n",
       "    </tr>\n",
       "  </tbody>\n",
       "</table>\n",
       "</div>"
      ],
      "text/plain": [
       "         date  daily_volume  bin_num  bin_volume  volatility  quote_imbalance\n",
       "0  2020-05-13     -0.676033        0   -0.753171    5.044553        -0.928889\n",
       "1  2020-05-13     -0.676033        1   -0.164080   -0.203702        -0.849043\n",
       "2  2020-05-13     -0.676033        2   -0.346326   -0.208520         0.007255\n",
       "3  2020-05-13     -0.676033        3   -0.571056   -0.216492        -0.860357\n",
       "4  2020-05-13     -0.676033        4   -0.684781   -0.212412        -1.098856"
      ]
     },
     "execution_count": 23,
     "metadata": {},
     "output_type": "execute_result"
    }
   ],
   "source": [
    "from sklearn.preprocessing import StandardScaler\n",
    "import pandas as pd\n",
    "import os\n",
    "\n",
    "scaler = StandardScaler()\n",
    "df = pd.read_csv('../data/0308/0308-data/000046_XSHE_25_daily.csv')\n",
    "for features in ['daily_volume', 'bin_volume', 'volatility','quote_imbalance']:\n",
    "    df[features] = scaler.fit_transform(data[features].values.reshape(-1, 1))\n",
    "df.head()"
   ]
  },
  {
   "cell_type": "code",
   "execution_count": 24,
   "metadata": {},
   "outputs": [
    {
     "data": {
      "text/plain": [
       "['002282_XSHE_25_daily_normalized.csv',\n",
       " '002882_XSHE_25_daily_normalized.csv',\n",
       " '000753_XSHE_25_daily_normalized.csv',\n",
       " '300133_XSHE_25_daily_normalized.csv',\n",
       " '600622_XSHG_25_daily_normalized.csv',\n",
       " '300540_XSHE_25_daily_normalized.csv',\n",
       " '300433_XSHE_25_daily.csv',\n",
       " '000951_XSHE_25_daily.csv',\n",
       " '000046_XSHE_25_daily.csv',\n",
       " '002679_XSHE_25_daily_normalized.csv',\n",
       " '000998_XSHE_25_daily.csv',\n",
       " '002679_XSHE_25_daily.csv',\n",
       " '300263_XSHE_25_daily.csv',\n",
       " '603359_XSHG_25_daily_normalized.csv',\n",
       " '300540_XSHE_25_daily.csv',\n",
       " '603053_XSHG_25_daily.csv',\n",
       " '600622_XSHG_25_daily.csv',\n",
       " '300174_XSHE_25_daily.csv',\n",
       " '603053_XSHG_25_daily_normalized.csv',\n",
       " '002841_XSHE_25_daily_normalized.csv',\n",
       " '603095_XSHG_25_daily_normalized.csv',\n",
       " '300174_XSHE_25_daily_normalized.csv',\n",
       " '002882_XSHE_25_daily.csv',\n",
       " '000753_XSHE_25_daily.csv',\n",
       " '000046_XSHE_25_daily_normalized.csv',\n",
       " '603359_XSHG_25_daily.csv',\n",
       " '300133_XSHE_25_daily.csv',\n",
       " '300343_XSHE_25_daily_normalized.csv',\n",
       " '300263_XSHE_25_daily_normalized.csv',\n",
       " '002282_XSHE_25_daily.csv',\n",
       " '002841_XSHE_25_daily.csv',\n",
       " '000998_XSHE_25_daily_normalized.csv',\n",
       " '300433_XSHE_25_daily_normalized.csv',\n",
       " '300343_XSHE_25_daily.csv',\n",
       " '603095_XSHG_25_daily.csv',\n",
       " '000951_XSHE_25_daily_normalized.csv']"
      ]
     },
     "execution_count": 24,
     "metadata": {},
     "output_type": "execute_result"
    }
   ],
   "source": [
    "os.listdir('../data/0308/0308-data/')"
   ]
  },
  {
   "cell_type": "code",
   "execution_count": 2,
   "metadata": {},
   "outputs": [],
   "source": [
    "import pandas as pd\n",
    "\n",
    "data = pd.read_csv('../data/volume/0308/Features/000046_25_daily_f_all.csv')"
   ]
  },
  {
   "cell_type": "code",
   "execution_count": 20,
   "metadata": {},
   "outputs": [
    {
     "data": {
      "text/html": [
       "<div>\n",
       "<style scoped>\n",
       "    .dataframe tbody tr th:only-of-type {\n",
       "        vertical-align: middle;\n",
       "    }\n",
       "\n",
       "    .dataframe tbody tr th {\n",
       "        vertical-align: top;\n",
       "    }\n",
       "\n",
       "    .dataframe thead th {\n",
       "        text-align: right;\n",
       "    }\n",
       "</style>\n",
       "<table border=\"1\" class=\"dataframe\">\n",
       "  <thead>\n",
       "    <tr style=\"text-align: right;\">\n",
       "      <th></th>\n",
       "      <th>bin1</th>\n",
       "      <th>bin2</th>\n",
       "      <th>bin3</th>\n",
       "      <th>bin4</th>\n",
       "    </tr>\n",
       "  </thead>\n",
       "  <tbody>\n",
       "    <tr>\n",
       "      <th>5</th>\n",
       "      <td>[-0.7286, -0.4853, -0.4853, -0.1618, 0.0267, -...</td>\n",
       "      <td>[-0.7286, -0.2843, -0.7696, -0.2565, 0.0152, -...</td>\n",
       "      <td>[-0.7286, -0.5056, -1.2752, -0.4251, 0.0285, -...</td>\n",
       "      <td>[-0.7286, -0.6839, -1.9591, -0.4913, 0.0424, -...</td>\n",
       "    </tr>\n",
       "    <tr>\n",
       "      <th>6</th>\n",
       "      <td>[-0.0094, -0.3639, -0.3639, -0.1213, 0.0345, -...</td>\n",
       "      <td>[-0.0094, -0.3058, -0.6697, -0.2232, 0.0298, -...</td>\n",
       "      <td>[-0.0094, -0.4159, -1.0856, -0.3619, 0.0297, -...</td>\n",
       "      <td>[-0.0094, -0.3762, -1.4619, -0.366, 0.0301, 0....</td>\n",
       "    </tr>\n",
       "    <tr>\n",
       "      <th>7</th>\n",
       "      <td>[-1.0039, -0.4499, -0.4499, -0.15, 0.0738, 1.5...</td>\n",
       "      <td>[-1.0039, 0.0363, -0.4136, -0.1379, 0.0124, -0...</td>\n",
       "      <td>[-1.0039, 0.2816, -0.132, -0.044, -0.0055, -0....</td>\n",
       "      <td>[-1.0039, -0.494, -0.626, -0.0587, 0.0848, -0....</td>\n",
       "    </tr>\n",
       "  </tbody>\n",
       "</table>\n",
       "</div>"
      ],
      "text/plain": [
       "                                                bin1  \\\n",
       "5  [-0.7286, -0.4853, -0.4853, -0.1618, 0.0267, -...   \n",
       "6  [-0.0094, -0.3639, -0.3639, -0.1213, 0.0345, -...   \n",
       "7  [-1.0039, -0.4499, -0.4499, -0.15, 0.0738, 1.5...   \n",
       "\n",
       "                                                bin2  \\\n",
       "5  [-0.7286, -0.2843, -0.7696, -0.2565, 0.0152, -...   \n",
       "6  [-0.0094, -0.3058, -0.6697, -0.2232, 0.0298, -...   \n",
       "7  [-1.0039, 0.0363, -0.4136, -0.1379, 0.0124, -0...   \n",
       "\n",
       "                                                bin3  \\\n",
       "5  [-0.7286, -0.5056, -1.2752, -0.4251, 0.0285, -...   \n",
       "6  [-0.0094, -0.4159, -1.0856, -0.3619, 0.0297, -...   \n",
       "7  [-1.0039, 0.2816, -0.132, -0.044, -0.0055, -0....   \n",
       "\n",
       "                                                bin4  \n",
       "5  [-0.7286, -0.6839, -1.9591, -0.4913, 0.0424, -...  \n",
       "6  [-0.0094, -0.3762, -1.4619, -0.366, 0.0301, 0....  \n",
       "7  [-1.0039, -0.494, -0.626, -0.0587, 0.0848, -0....  "
      ]
     },
     "execution_count": 20,
     "metadata": {},
     "output_type": "execute_result"
    }
   ],
   "source": [
    "data.iloc[5: 8, 1: 5]"
   ]
  },
  {
   "cell_type": "code",
   "execution_count": 42,
   "metadata": {},
   "outputs": [
    {
     "data": {
      "text/html": [
       "<div>\n",
       "<style scoped>\n",
       "    .dataframe tbody tr th:only-of-type {\n",
       "        vertical-align: middle;\n",
       "    }\n",
       "\n",
       "    .dataframe tbody tr th {\n",
       "        vertical-align: top;\n",
       "    }\n",
       "\n",
       "    .dataframe thead th {\n",
       "        text-align: right;\n",
       "    }\n",
       "</style>\n",
       "<table border=\"1\" class=\"dataframe\">\n",
       "  <thead>\n",
       "    <tr style=\"text-align: right;\">\n",
       "      <th></th>\n",
       "      <th>bin1</th>\n",
       "      <th>bin2</th>\n",
       "      <th>bin3</th>\n",
       "      <th>bin4</th>\n",
       "    </tr>\n",
       "  </thead>\n",
       "  <tbody>\n",
       "    <tr>\n",
       "      <th>3</th>\n",
       "      <td>[-0.0381, -0.0519, -0.0519, -0.0173, -0.0292, ...</td>\n",
       "      <td>[-0.0381, 0.1828, 0.1309, 0.0436, 0.023, -0.34...</td>\n",
       "      <td>[-0.0381, -0.2728, -0.1419, -0.0473, 0.0444, -...</td>\n",
       "      <td>[-0.0381, -0.6236, -0.7655, -0.2379, 0.0317, -...</td>\n",
       "    </tr>\n",
       "    <tr>\n",
       "      <th>4</th>\n",
       "      <td>[-1.1514, -0.343, -0.343, -0.1143, -0.0375, -0...</td>\n",
       "      <td>[-1.1514, -0.4299, -0.7728, -0.2576, 0.0228, -...</td>\n",
       "      <td>[-1.1514, -0.1264, -0.8992, -0.2997, 0.03, -0....</td>\n",
       "      <td>[-1.1514, -0.0033, -0.9026, -0.1865, 0.0447, -...</td>\n",
       "    </tr>\n",
       "    <tr>\n",
       "      <th>5</th>\n",
       "      <td>[-0.7286, -0.4853, -0.4853, -0.1618, 0.0267, -...</td>\n",
       "      <td>[-0.7286, -0.2843, -0.7696, -0.2565, 0.0152, -...</td>\n",
       "      <td>[-0.7286, -0.5056, -1.2752, -0.4251, 0.0285, -...</td>\n",
       "      <td>[-0.7286, -0.6839, -1.9591, -0.4913, 0.0424, -...</td>\n",
       "    </tr>\n",
       "  </tbody>\n",
       "</table>\n",
       "</div>"
      ],
      "text/plain": [
       "                                                bin1  \\\n",
       "3  [-0.0381, -0.0519, -0.0519, -0.0173, -0.0292, ...   \n",
       "4  [-1.1514, -0.343, -0.343, -0.1143, -0.0375, -0...   \n",
       "5  [-0.7286, -0.4853, -0.4853, -0.1618, 0.0267, -...   \n",
       "\n",
       "                                                bin2  \\\n",
       "3  [-0.0381, 0.1828, 0.1309, 0.0436, 0.023, -0.34...   \n",
       "4  [-1.1514, -0.4299, -0.7728, -0.2576, 0.0228, -...   \n",
       "5  [-0.7286, -0.2843, -0.7696, -0.2565, 0.0152, -...   \n",
       "\n",
       "                                                bin3  \\\n",
       "3  [-0.0381, -0.2728, -0.1419, -0.0473, 0.0444, -...   \n",
       "4  [-1.1514, -0.1264, -0.8992, -0.2997, 0.03, -0....   \n",
       "5  [-0.7286, -0.5056, -1.2752, -0.4251, 0.0285, -...   \n",
       "\n",
       "                                                bin4  \n",
       "3  [-0.0381, -0.6236, -0.7655, -0.2379, 0.0317, -...  \n",
       "4  [-1.1514, -0.0033, -0.9026, -0.1865, 0.0447, -...  \n",
       "5  [-0.7286, -0.6839, -1.9591, -0.4913, 0.0424, -...  "
      ]
     },
     "execution_count": 42,
     "metadata": {},
     "output_type": "execute_result"
    }
   ],
   "source": [
    "for t in range(5, data.shape[0]):\n",
    "    for m in range(4, data.shape[1]):\n",
    "        # sub_matrix = data.iloc[(t- 3)+ 1: t+ 1, m- 3: m +2]\n",
    "        sub_matrix = data.iloc[t-2: t+ 1, m-3: m+1]\n",
    "        break\n",
    "    break\n",
    "sub_matrix"
   ]
  },
  {
   "cell_type": "code",
   "execution_count": 39,
   "metadata": {},
   "outputs": [
    {
     "data": {
      "text/plain": [
       "array([list([-1.0039, -0.494, -0.626, -0.0587, 0.0848, -0.6788, -0.2105, -1.0148, -1.0]),\n",
       "       list([-1.0, -0.6848, -1.7662, -0.5341, 0.0262, -0.6848, -0.2124, -1.0989, 0.0]),\n",
       "       list([-0.7286, -0.4853, -0.4853, -0.1618, 0.0267, -0.1641, -0.2099, 0.6759, 0.0]),\n",
       "       list([-0.7286, -0.2843, -0.7696, -0.2565, 0.0152, -0.3463, -0.2083, -0.4348, 0.0]),\n",
       "       list([-0.7286, -0.5056, -1.2752, -0.4251, 0.0285, -0.5711, -0.2092, 1.4978, 0.0]),\n",
       "       list([-0.7286, -0.6839, -1.9591, -0.4913, 0.0424, -0.6848, -0.209, -0.7093, 0.0]),\n",
       "       list([-0.0094, -0.3639, -0.3639, -0.1213, 0.0345, -0.5371, -0.2096, -1.1534, 0.0]),\n",
       "       list([-0.0094, -0.3058, -0.6697, -0.2232, 0.0298, -0.3869, -0.2108, -0.9767, 0.0]),\n",
       "       list([-0.0094, -0.4159, -1.0856, -0.3619, 0.0297, -0.5183, -0.2085, -0.8278, 0.0]),\n",
       "       list([-0.0094, -0.3762, -1.4619, -0.366, 0.0301, 0.3645, -0.2101, 0.3153, 0.0]),\n",
       "       list([-1.0039, -0.4499, -0.4499, -0.15, 0.0738, 1.5194, -0.201, 0.0266, 0.0]),\n",
       "       list([-1.0039, 0.0363, -0.4136, -0.1379, 0.0124, -0.4838, -0.1937, -0.2084, 0.0]),\n",
       "       list([-1.0039, 0.2816, -0.132, -0.044, -0.0055, -0.497, -0.2031, 0.4202, 1.0])],\n",
       "      dtype=object)"
      ]
     },
     "execution_count": 39,
     "metadata": {},
     "output_type": "execute_result"
    }
   ],
   "source": [
    "import numpy as np\n",
    "np.load('../data/volume/0308/Input/000046_3_3_inputs.npy', allow_pickle=True)[0]"
   ]
  },
  {
   "cell_type": "code",
   "execution_count": 46,
   "metadata": {},
   "outputs": [],
   "source": [
    "def _gen_adj_matrix():\n",
    "    connection = [\n",
    "        (1, 0),\n",
    "        (9, 0), (12, 0), \n",
    "        (8, 9), (8, 12), (5, 9), (11, 12), \n",
    "        (4, 5), (4, 8), (7, 8), (7, 11), (10, 11),\n",
    "        (3, 4), (3, 7), (6, 7), (6, 10), (2, 3), (2, 6)]\n",
    "    adj_matrix = np.zeros((13, 13))\n",
    "    for source, target in connection:\n",
    "        adj_matrix[source][target] = 1\n",
    "    \n",
    "    return adj_matrix\n",
    "\n",
    "def gen_adjacency_matrix(stock_info):\n",
    "    adjacency = _gen_adj_matrix()\n",
    "    I = np.identity(adjacency.shape[0])\n",
    "    I[-1, -1] = 0\n",
    "    adjacency = adjacency + I\n",
    "    D = np.diag(np.sum(adjacency, axis=1))\n",
    "    D_inv_sqrt = np.linalg.inv(np.sqrt(D))\n",
    "    L = np.dot(D_inv_sqrt, adjacency).dot(D_inv_sqrt)\n",
    "    normalized_laplacian_version = L.copy()\n",
    "    # np.save(f'data/volume/0308/{stock_info}_{lag_bin}_{lag_day}_graph_input.npy', normalized_laplacian_version)\n",
    "\n",
    "    return normalized_laplacian_version"
   ]
  },
  {
   "cell_type": "code",
   "execution_count": 50,
   "metadata": {},
   "outputs": [],
   "source": [
    "norm = gen_adjacency_matrix(stock_info= None)\n",
    "adj = _gen_adj_matrix()"
   ]
  },
  {
   "cell_type": "code",
   "execution_count": 49,
   "metadata": {},
   "outputs": [
    {
     "data": {
      "text/plain": [
       "(13, 13)"
      ]
     },
     "execution_count": 49,
     "metadata": {},
     "output_type": "execute_result"
    }
   ],
   "source": [
    "norm.shape"
   ]
  },
  {
   "cell_type": "code",
   "execution_count": 51,
   "metadata": {},
   "outputs": [
    {
     "data": {
      "text/plain": [
       "(13, 13)"
      ]
     },
     "execution_count": 51,
     "metadata": {},
     "output_type": "execute_result"
    }
   ],
   "source": [
    "adj.shape"
   ]
  },
  {
   "cell_type": "code",
   "execution_count": 52,
   "metadata": {},
   "outputs": [
    {
     "data": {
      "text/plain": [
       "array([[0., 0., 0., 0., 0., 0., 0., 0., 0., 0., 0., 0., 0.],\n",
       "       [1., 0., 0., 0., 0., 0., 0., 0., 0., 0., 0., 0., 0.],\n",
       "       [0., 0., 0., 1., 0., 0., 1., 0., 0., 0., 0., 0., 0.],\n",
       "       [0., 0., 0., 0., 1., 0., 0., 1., 0., 0., 0., 0., 0.],\n",
       "       [0., 0., 0., 0., 0., 1., 0., 0., 1., 0., 0., 0., 0.],\n",
       "       [0., 0., 0., 0., 0., 0., 0., 0., 0., 1., 0., 0., 0.],\n",
       "       [0., 0., 0., 0., 0., 0., 0., 1., 0., 0., 1., 0., 0.],\n",
       "       [0., 0., 0., 0., 0., 0., 0., 0., 1., 0., 0., 1., 0.],\n",
       "       [0., 0., 0., 0., 0., 0., 0., 0., 0., 1., 0., 0., 1.],\n",
       "       [1., 0., 0., 0., 0., 0., 0., 0., 0., 0., 0., 0., 0.],\n",
       "       [0., 0., 0., 0., 0., 0., 0., 0., 0., 0., 0., 1., 0.],\n",
       "       [0., 0., 0., 0., 0., 0., 0., 0., 0., 0., 0., 0., 1.],\n",
       "       [1., 0., 0., 0., 0., 0., 0., 0., 0., 0., 0., 0., 0.]])"
      ]
     },
     "execution_count": 52,
     "metadata": {},
     "output_type": "execute_result"
    }
   ],
   "source": [
    "adj"
   ]
  },
  {
   "cell_type": "code",
   "execution_count": 53,
   "metadata": {},
   "outputs": [
    {
     "data": {
      "text/plain": [
       "array([[1.        , 0.        , 0.        , 0.        , 0.        ,\n",
       "        0.        , 0.        , 0.        , 0.        , 0.        ,\n",
       "        0.        , 0.        , 0.        ],\n",
       "       [0.70710678, 0.5       , 0.        , 0.        , 0.        ,\n",
       "        0.        , 0.        , 0.        , 0.        , 0.        ,\n",
       "        0.        , 0.        , 0.        ],\n",
       "       [0.        , 0.        , 0.33333333, 0.33333333, 0.        ,\n",
       "        0.        , 0.33333333, 0.        , 0.        , 0.        ,\n",
       "        0.        , 0.        , 0.        ],\n",
       "       [0.        , 0.        , 0.        , 0.33333333, 0.33333333,\n",
       "        0.        , 0.        , 0.33333333, 0.        , 0.        ,\n",
       "        0.        , 0.        , 0.        ],\n",
       "       [0.        , 0.        , 0.        , 0.        , 0.33333333,\n",
       "        0.40824829, 0.        , 0.        , 0.33333333, 0.        ,\n",
       "        0.        , 0.        , 0.        ],\n",
       "       [0.        , 0.        , 0.        , 0.        , 0.        ,\n",
       "        0.5       , 0.        , 0.        , 0.        , 0.5       ,\n",
       "        0.        , 0.        , 0.        ],\n",
       "       [0.        , 0.        , 0.        , 0.        , 0.        ,\n",
       "        0.        , 0.33333333, 0.33333333, 0.        , 0.        ,\n",
       "        0.40824829, 0.        , 0.        ],\n",
       "       [0.        , 0.        , 0.        , 0.        , 0.        ,\n",
       "        0.        , 0.        , 0.33333333, 0.33333333, 0.        ,\n",
       "        0.        , 0.40824829, 0.        ],\n",
       "       [0.        , 0.        , 0.        , 0.        , 0.        ,\n",
       "        0.        , 0.        , 0.        , 0.33333333, 0.40824829,\n",
       "        0.        , 0.        , 0.57735027],\n",
       "       [0.70710678, 0.        , 0.        , 0.        , 0.        ,\n",
       "        0.        , 0.        , 0.        , 0.        , 0.5       ,\n",
       "        0.        , 0.        , 0.        ],\n",
       "       [0.        , 0.        , 0.        , 0.        , 0.        ,\n",
       "        0.        , 0.        , 0.        , 0.        , 0.        ,\n",
       "        0.5       , 0.5       , 0.        ],\n",
       "       [0.        , 0.        , 0.        , 0.        , 0.        ,\n",
       "        0.        , 0.        , 0.        , 0.        , 0.        ,\n",
       "        0.        , 0.5       , 0.70710678],\n",
       "       [1.        , 0.        , 0.        , 0.        , 0.        ,\n",
       "        0.        , 0.        , 0.        , 0.        , 0.        ,\n",
       "        0.        , 0.        , 0.        ]])"
      ]
     },
     "execution_count": 53,
     "metadata": {},
     "output_type": "execute_result"
    }
   ],
   "source": [
    "norm"
   ]
  },
  {
   "cell_type": "code",
   "execution_count": null,
   "metadata": {},
   "outputs": [],
   "source": []
  }
 ],
 "metadata": {
  "kernelspec": {
   "display_name": "Python 3",
   "language": "python",
   "name": "python3"
  },
  "language_info": {
   "codemirror_mode": {
    "name": "ipython",
    "version": 3
   },
   "file_extension": ".py",
   "mimetype": "text/x-python",
   "name": "python",
   "nbconvert_exporter": "python",
   "pygments_lexer": "ipython3",
   "version": "3.10.14"
  }
 },
 "nbformat": 4,
 "nbformat_minor": 2
}
