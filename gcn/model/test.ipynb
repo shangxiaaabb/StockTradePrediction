{
 "cells": [
  {
   "cell_type": "code",
   "execution_count": 1,
   "metadata": {},
   "outputs": [],
   "source": [
    "# from BuildData import BuildData\n",
    "import pandas as pd\n",
    "import numpy as np\n",
    "import networkx as nx\n",
    "import matplotlib.pyplot as plt\n",
    "from turtle import st\n",
    "from urllib import response\n",
    "import requests\n",
    "import time\n",
    "from lxml import etree\n",
    "from bs4 import BeautifulSoup\n",
    "import re\n",
    "import urllib.request, urllib.error\n",
    "import pandas as pd\n",
    "from fake_useragent import UserAgent\n",
    "ua = UserAgent()\n",
    "\n",
    "conf = {'lag_day': 3,\n",
    "        'lag_bin': 3,\n",
    "        'lag_week': 1,\n",
    "        'bin_num': 24,\n",
    "        'file_dir': '../data/0308/'}\n",
    "\n",
    "# data = pd.read_csv('../data/0308/000046_XSHE_25_daily.csv')"
   ]
  },
  {
   "cell_type": "code",
   "execution_count": null,
   "metadata": {},
   "outputs": [],
   "source": [
    "文本内容:\n",
    "1、正文：<div class=\"article page-article\">\n",
    "2、帖子：<div id=\"newscontent\">\n",
    "\n",
    "<div class=\"xeditor_content app_h5_article\">\n",
    "<div class=\"xeditor_content editorlungo_content\">\n",
    "<div class=\"xeditor_content editorlungo_content\"><p></div>\n",
    "<div class=\"xeditor_content app_h5_article\">\n",
    "<div class=\"xeditor_content editorlungo_content\"></div>\n",
    "<div class=\"question\"></div>\n",
    "<div class=\"xeditor_content app_h5_article\"></div>\n",
    "\n",
    "\n",
    "时间：\n",
    "<div class=\"time\">2024-06-27 13:25:50</div>\n",
    "<span class=\"txt\">2024年06月22日 17:44</span>"
   ]
  },
  {
   "cell_type": "code",
   "execution_count": 20,
   "metadata": {},
   "outputs": [
    {
     "name": "stdout",
     "output_type": "stream",
     "text": [
      "{'http': 'http://106.110.146.75:4213', 'https': 'http://106.110.146.75:4213'}\n",
      "200\n"
     ]
    }
   ],
   "source": [
    "import requests\n",
    "import re\n",
    "\n",
    "# 提取ip\n",
    "resp = requests.get(\"http://webapi.http.zhimacangku.com/getip?neek=321a408a&num=400&type=1&time=4&pro=0&city=0&yys=0&port=1&pack=0&ts=0&ys=0&cs=0&lb=1&sb=&pb=4&mr=3&regions=&cf=0\")\n",
    "ip = resp.text.split('\\r\\n')\n",
    "\n",
    "# # 请求地址\n",
    "targetUrl = \"https://guba.eastmoney.com/\"\n",
    "\n",
    "# # 代理服务器\n",
    "import random\n",
    "proxyHost = ip[random.randint(0, len(ip))].split(':')[0]\n",
    "proxyPort = ip[random.randint(0, len(ip))].split(':')[1]\n",
    "\n",
    "proxyMeta = \"http://%(host)s:%(port)s\" % {\n",
    "    \"host\": proxyHost,\n",
    "    \"port\": proxyPort,\n",
    "}\n",
    "\n",
    "# pip install -U requests[socks]  socks5\n",
    "# proxyMeta = \"socks5://%(host)s:%(port)s\" % {\n",
    "#     \"host\" : proxyHost,\n",
    "#     \"port\" : proxyPort,\n",
    "# }\n",
    "\n",
    "proxies = {\n",
    "    \"http\": proxyMeta,\n",
    "    \"https\": proxyMeta\n",
    "}\n",
    "print(proxies)\n",
    "resp = requests.get(targetUrl, headers= {'User-Agent': ua.random}, proxies=proxies)\n",
    "print(resp.status_code)\n",
    "# print(resp.text)"
   ]
  },
  {
   "cell_type": "code",
   "execution_count": 18,
   "metadata": {},
   "outputs": [
    {
     "name": "stdout",
     "output_type": "stream",
     "text": [
      "200\n"
     ]
    }
   ],
   "source": [
    "from fake_useragent import UserAgent\n",
    "ua = UserAgent()\n",
    "response = requests.get(targetUrl , headers= {'User-Agent': ua.random})\n",
    "print(response.status_code)"
   ]
  },
  {
   "cell_type": "code",
   "execution_count": 37,
   "metadata": {},
   "outputs": [
    {
     "name": "stdout",
     "output_type": "stream",
     "text": [
      "True\n"
     ]
    }
   ],
   "source": [
    "import requests\n",
    "# def RandomIP(IPAPI: str=\"http://webapi.http.zhimacangku.com/getip?neek=321a408a&num=400&type=1&time=2&pro=0&city=0&yys=0&port=1&pack=0&ts=0&ys=0&cs=0&lb=1&sb=&pb=4&mr=3&regions=&cf=0\",\n",
    "#              ):\n",
    "#     ip_list = requests.get(IPAPI).text.split('\\r\\n')\n",
    "#     proxyMeta = f\"http://{ip_list[random.randint(0, len(ip_list))]}\"\n",
    "#     proxies = {\n",
    "#         \"http\": proxyMeta,\n",
    "#         \"https\": proxyMeta,\n",
    "#     }\n",
    "#     return proxies\n",
    "# proxies = RandomIP()\n",
    "\n",
    "targetUrl = \"https://guba.eastmoney.com/\"\n",
    "resp = requests.get(targetUrl, headers= {'User-Agent': ua.random})\n",
    "# while resp!= 200:\n",
    "    # print(resp.status_code)\n",
    "    # resp = requests.get(targetUrl, headers= {'User-Agent': ua.random}, proxies=RandomIP())\n",
    "print(resp.status_code== 200)"
   ]
  }
 ],
 "metadata": {
  "kernelspec": {
   "display_name": "Python 3",
   "language": "python",
   "name": "python3"
  },
  "language_info": {
   "codemirror_mode": {
    "name": "ipython",
    "version": 3
   },
   "file_extension": ".py",
   "mimetype": "text/x-python",
   "name": "python",
   "nbconvert_exporter": "python",
   "pygments_lexer": "ipython3",
   "version": "3.12.4"
  }
 },
 "nbformat": 4,
 "nbformat_minor": 2
}
