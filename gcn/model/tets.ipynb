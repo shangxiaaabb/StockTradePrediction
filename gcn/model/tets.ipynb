{
 "cells": [
  {
   "cell_type": "code",
   "execution_count": 1,
   "metadata": {},
   "outputs": [],
   "source": [
    "from BuildData import BuildData\n",
    "import pandas as pd\n",
    "\n",
    "conf = {'lag_day': 3,\n",
    "        'lag_bin': 3,\n",
    "        'lag_week': 1,\n",
    "        'bin_num': 24,\n",
    "        'file_dir': '../data/0308/'}\n",
    "\n",
    "m_data = BuildData(conf= conf).genNewFeatureBinVolume(file_path= '../data/0308/000046_XSHE_25_daily.csv', stock_info= None)"
   ]
  },
  {
   "cell_type": "code",
   "execution_count": 2,
   "metadata": {},
   "outputs": [],
   "source": [
    "column_names, first_elements = [], []\n",
    "# 生成节点名称\n",
    "for i in range(0, 13):\n",
    "    column_names.append(f'node{i}')\n",
    "\n",
    "inputs_df = pd.DataFrame(columns= column_names)\n",
    "# sub_matrix = data.iloc[5: 8, 0: 4]\n",
    "# row = []\n",
    "# for i in range(0, 3):\n",
    "#     row0 = sub_matrix.iloc[i, :].values\n",
    "#     for j in range(0, 4):\n",
    "#         row.append(row0[j])\n",
    "# # print(len(row))\n",
    "# # row.append()\n",
    "# node0 = row.pop()\n",
    "# row.insert(0, node0)\n",
    "# row.insert(1, data.iloc[0, 3])\n",
    "# inputs_df.loc[0] = row\n",
    "\n",
    "lag_bin, lag_day = 3, 3\n",
    "z = 0\n",
    "for t in range(7, m_data.shape[0]):\n",
    "    for m in range(lag_bin, m_data.shape[1]):\n",
    "        # sub_matrix = m_data.iloc[(t- lag_day): t+1, (m- lag_bin): m+ 1]\n",
    "        sub_matrix = m_data.iloc[(t- lag_day)+1: t+ 1, (m- lag_bin): m+1]\n",
    "        row = []\n",
    "        for i in range(0, lag_day):\n",
    "            row0 = sub_matrix.iloc[i, :].values\n",
    "            for j in range(0, lag_bin+ 1):\n",
    "                row.append(row0[j])\n",
    "        node0, node1 = row.pop(), m_data.iloc[t-7, m]\n",
    "        row.insert(0, node0)\n",
    "        row.insert(1, node1)\n",
    "        inputs_df.loc[z] = row\n",
    "        z +=1"
   ]
  },
  {
   "cell_type": "code",
   "execution_count": 4,
   "metadata": {},
   "outputs": [
    {
     "name": "stdout",
     "output_type": "stream",
     "text": [
      "0\n",
      "1\n",
      "2\n",
      "3\n",
      "4\n",
      "5\n",
      "6\n",
      "7\n",
      "8\n",
      "9\n",
      "10\n",
      "11\n",
      "12\n",
      "13\n",
      "14\n",
      "15\n",
      "16\n"
     ]
    }
   ],
   "source": [
    "for i in range(0, (lag_bin+1) * (lag_day+1)+ 1):\n",
    "    print(i)"
   ]
  },
  {
   "cell_type": "code",
   "execution_count": null,
   "metadata": {},
   "outputs": [],
   "source": []
  }
 ],
 "metadata": {
  "kernelspec": {
   "display_name": "Python 3",
   "language": "python",
   "name": "python3"
  },
  "language_info": {
   "codemirror_mode": {
    "name": "ipython",
    "version": 3
   },
   "file_extension": ".py",
   "mimetype": "text/x-python",
   "name": "python",
   "nbconvert_exporter": "python",
   "pygments_lexer": "ipython3",
   "version": "3.12.4"
  }
 },
 "nbformat": 4,
 "nbformat_minor": 2
}
